{
  "cells": [
    {
      "cell_type": "markdown",
      "metadata": {
        "id": "view-in-github",
        "colab_type": "text"
      },
      "source": [
        "<a href=\"https://colab.research.google.com/github/OscarGX117/IA_Tec/blob/main/Practica_1.ipynb\" target=\"_parent\"><img src=\"https://colab.research.google.com/assets/colab-badge.svg\" alt=\"Open In Colab\"/></a>"
      ]
    },
    {
      "cell_type": "markdown",
      "metadata": {
        "id": "BYyr_EB_SYj2"
      },
      "source": [
        "# Ejecución 1"
      ]
    },
    {
      "cell_type": "code",
      "execution_count": null,
      "metadata": {
        "id": "-1kUdzRUSs0F"
      },
      "outputs": [],
      "source": [
        "def suma(a,b):\n",
        "  resultado = a+b\n",
        "  return resultado\n"
      ]
    },
    {
      "cell_type": "code",
      "execution_count": null,
      "metadata": {
        "colab": {
          "base_uri": "https://localhost:8080/"
        },
        "id": "h0fkwMKlVIKf",
        "outputId": "9a328b27-9139-4150-a574-68c4c664ff2e"
      },
      "outputs": [
        {
          "name": "stdout",
          "output_type": "stream",
          "text": [
            "4\n"
          ]
        }
      ],
      "source": [
        "print(suma (2,2))"
      ]
    },
    {
      "cell_type": "markdown",
      "metadata": {
        "id": "W9fSOmj-NHrj"
      },
      "source": [
        "# Practica 1 parte 1"
      ]
    },
    {
      "cell_type": "code",
      "execution_count": null,
      "metadata": {
        "id": "-onQRo0pBeU6"
      },
      "outputs": [],
      "source": [
        "import tensorflow as tf\n",
        "import numpy as np\n"
      ]
    },
    {
      "cell_type": "code",
      "execution_count": null,
      "metadata": {
        "id": "iXd09u5pCtzW"
      },
      "outputs": [],
      "source": [
        "celcius = np.array([-15,-5,0,5,15], dtype=float)\n",
        "fahrenheit = np.array([5,23,32,41,59], dtype=float)"
      ]
    },
    {
      "cell_type": "code",
      "execution_count": null,
      "metadata": {
        "id": "KJnDg5jWC271"
      },
      "outputs": [],
      "source": [
        "#capa = tf.keras.layers.Dense(units=1, input_shape=[1])\n",
        "#modelo = tf.keras.Sequential([capa])\n",
        "oculta1 = tf.keras.layers.Dense(units=3, input_shape=[1])\n",
        "oculta2 = tf.keras.layers.Dense(units=3)\n",
        "salida = tf.keras.layers.Dense(units=1)\n",
        "modelo = tf.keras.Sequential([oculta1, oculta2, salida])"
      ]
    },
    {
      "cell_type": "code",
      "execution_count": null,
      "metadata": {
        "id": "Qm2f6X3BDkWs"
      },
      "outputs": [],
      "source": [
        "modelo.compile(\n",
        "    optimizer=tf.keras.optimizers.Adam(0.1),\n",
        "  loss='mean_squared_error'\n",
        ")\n"
      ]
    },
    {
      "cell_type": "code",
      "execution_count": null,
      "metadata": {
        "colab": {
          "base_uri": "https://localhost:8080/"
        },
        "id": "pinpbcFUEYli",
        "outputId": "fd997d4d-b66e-426e-ae01-0d298f3bba88"
      },
      "outputs": [
        {
          "name": "stdout",
          "output_type": "stream",
          "text": [
            "comenzando entrenamiento...\n",
            "modelo entrenado!!!\n"
          ]
        }
      ],
      "source": [
        "print(\"comenzando entrenamiento...\")\n",
        "hilstorial=modelo.fit(celcius, fahrenheit, epochs=1000, verbose=False)\n",
        "print (\"modelo entrenado!!!\")"
      ]
    },
    {
      "cell_type": "code",
      "execution_count": null,
      "metadata": {
        "colab": {
          "base_uri": "https://localhost:8080/",
          "height": 466
        },
        "id": "ZPXRafZFC1o_",
        "outputId": "9e05f1cd-bbdf-46b9-827b-0077c03f1acc"
      },
      "outputs": [
        {
          "data": {
            "text/plain": [
              "[<matplotlib.lines.Line2D at 0x7a59ceec06a0>]"
            ]
          },
          "execution_count": 6,
          "metadata": {},
          "output_type": "execute_result"
        },
        {
          "data": {
            "image/png": "[encoded data removed]",
            "text/plain": [
              "<Figure size 640x480 with 1 Axes>"
            ]
          },
          "metadata": {},
          "output_type": "display_data"
        }
      ],
      "source": [
        "import matplotlib.pyplot as plt\n",
        "plt.xlabel(\"# Epoca\")\n",
        "plt.ylabel(\"magnitud de perdida\")\n",
        "plt.plot(hilstorial.history[\"loss\"])"
      ]
    },
    {
      "cell_type": "code",
      "execution_count": null,
      "metadata": {
        "colab": {
          "base_uri": "https://localhost:8080/"
        },
        "id": "nnHYq9iEC6XW",
        "outputId": "7490d745-2883-4eb2-febb-68cf64a85e60"
      },
      "outputs": [
        {
          "name": "stdout",
          "output_type": "stream",
          "text": [
            "realizar una prediccion\n",
            "1/1 [==============================] - 0s 153ms/step\n",
            "El resultado es [[211.99998]]°F\n"
          ]
        }
      ],
      "source": [
        "print (\"realizar una prediccion\")\n",
        "resultado = modelo.predict ([100.0])\n",
        "print(\"El resultado es \" + str(resultado) + \"°F\")"
      ]
    },
    {
      "cell_type": "markdown",
      "metadata": {
        "id": "0PojlawlMJCz"
      },
      "source": [
        "# Practica 1 parte 2"
      ]
    },
    {
      "cell_type": "code",
      "execution_count": null,
      "metadata": {
        "id": "Pst3GBGMM5Kn"
      },
      "outputs": [],
      "source": [
        "import tensorflow as tf\n",
        "import numpy as np\n"
      ]
    },
    {
      "cell_type": "code",
      "execution_count": null,
      "metadata": {
        "id": "5zdscT3BNgxd"
      },
      "outputs": [],
      "source": [
        "litros = np.array([-5,3,1,1,3,5,8], dtype=float)\n",
        "gal = np.array([-1.32,-0.79,-0.26,0.26,0.79,1.32,2.11], dtype=float)\n"
      ]
    },
    {
      "cell_type": "code",
      "execution_count": null,
      "metadata": {
        "id": "UcoEsDa0O1Qh"
      },
      "outputs": [],
      "source": [
        "capa = tf.keras.layers.Dense(units=1, input_shape=[1])\n",
        "modelo = tf.keras.Sequential([capa])"
      ]
    },
    {
      "cell_type": "code",
      "execution_count": null,
      "metadata": {
        "id": "M-6H2GUMPcUe"
      },
      "outputs": [],
      "source": [
        "modelo.compile(\n",
        "    optimizer = tf.keras.optimizers.Adam(0.1),\n",
        "    loss='mean_squared_error'\n",
        ")"
      ]
    },
    {
      "cell_type": "code",
      "execution_count": null,
      "metadata": {
        "colab": {
          "background_save": true
        },
        "id": "lPUiJ00cQt3U",
        "outputId": "105a0e77-8c13-4b10-a660-4cc7c78754ab"
      },
      "outputs": [
        {
          "name": "stdout",
          "output_type": "stream",
          "text": [
            "comenzando entrenamiento...\n",
            "modelo entrenado!!!\n"
          ]
        }
      ],
      "source": [
        "print('comenzando entrenamiento...')\n",
        "historial = modelo.fit(litros, gal, epochs=1000, verbose=False)\n",
        "print (\"modelo entrenado!!!\")"
      ]
    },
    {
      "cell_type": "code",
      "execution_count": null,
      "metadata": {
        "id": "z6YQDNUPRNEl"
      },
      "outputs": [],
      "source": [
        "import matplotlib.pyplot as plt\n",
        "plt.xlabel(\"# Epoca\")\n",
        "plt.ylabel(\"Magnitud de perdida\")\n",
        "plt.plot(historial.history[\"loss\"])\n"
      ]
    },
    {
      "cell_type": "code",
      "execution_count": null,
      "metadata": {
        "id": "cjrOLi70R2ro"
      },
      "outputs": [],
      "source": [
        "print(\"Realizar prediccion!\")\n",
        "resultado = modelo.predict([10])\n",
        "print(\"El resultado es\" + str(resultado)+\"galones!\")\n"
      ]
    }
  ],
  "metadata": {
    "colab": {
      "toc_visible": true,
      "provenance": [],
      "authorship_tag": "ABX9TyOsfJloGLlf/x6Q6CPmNCaF",
      "include_colab_link": true
    },
    "kernelspec": {
      "display_name": "Python 3",
      "name": "python3"
    },
    "language_info": {
      "name": "python"
    }
  },
  "nbformat": 4,
  "nbformat_minor": 0
}